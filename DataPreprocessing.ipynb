{
  "nbformat": 4,
  "nbformat_minor": 0,
  "metadata": {
    "colab": {
      "name": "DataPreprocessing",
      "version": "0.3.2",
      "provenance": [],
      "collapsed_sections": [],
      "include_colab_link": true
    },
    "kernelspec": {
      "name": "python3",
      "display_name": "Python 3"
    },
    "accelerator": "GPU"
  },
  "cells": [
    {
      "cell_type": "markdown",
      "metadata": {
        "id": "view-in-github",
        "colab_type": "text"
      },
      "source": [
        "<a href=\"https://colab.research.google.com/github/akhil091/Object-detection-by-FasterRCNN/blob/master/DataPreprocessing.ipynb\" target=\"_parent\"><img src=\"https://colab.research.google.com/assets/colab-badge.svg\" alt=\"Open In Colab\"/></a>"
      ]
    },
    {
      "cell_type": "code",
      "metadata": {
        "id": "2O_txIrMjCmN",
        "colab_type": "code",
        "outputId": "538e5bdc-af89-4147-df8e-daa8e94fd8e8",
        "colab": {
          "base_uri": "https://localhost:8080/",
          "height": 36
        }
      },
      "source": [
        "from google.colab import drive\n",
        "drive.mount('/gdrive')"
      ],
      "execution_count": 0,
      "outputs": [
        {
          "output_type": "stream",
          "text": [
            "Drive already mounted at /gdrive; to attempt to forcibly remount, call drive.mount(\"/gdrive\", force_remount=True).\n"
          ],
          "name": "stdout"
        }
      ]
    },
    {
      "cell_type": "code",
      "metadata": {
        "id": "VluU6okfjmQZ",
        "colab_type": "code",
        "outputId": "2c253bd8-c45a-4cc6-8069-456a4a8057fa",
        "colab": {
          "base_uri": "https://localhost:8080/",
          "height": 36
        }
      },
      "source": [
        "%cd /gdrive/My\\ Drive"
      ],
      "execution_count": 0,
      "outputs": [
        {
          "output_type": "stream",
          "text": [
            "/gdrive/My Drive\n"
          ],
          "name": "stdout"
        }
      ]
    },
    {
      "cell_type": "code",
      "metadata": {
        "id": "OyNTvofEj47O",
        "colab_type": "code",
        "outputId": "c456df19-1478-46a8-dea2-f251c0d2a4dc",
        "colab": {
          "base_uri": "https://localhost:8080/",
          "height": 167
        }
      },
      "source": [
        "!ls"
      ],
      "execution_count": 0,
      "outputs": [
        {
          "output_type": "stream",
          "text": [
            " annotate1.txt\t\t\t       model_vgg_config.pickle\n",
            "'Colab Notebooks'\t\t       newdataset\n",
            "'Copy of annotation123.txt'\t       record.csv\n",
            "'Direct Memory Access (DMA).gslides'   ricerca.gslides\n",
            "'Direct Memory Access.gslides'\t       sample\n",
            "'Getting started.pdf'\t\t       trainimages\n",
            " model\t\t\t\t      'Untitled presentation.gslides'\n",
            " model_frcnn_vgg.hdf5\n"
          ],
          "name": "stdout"
        }
      ]
    },
    {
      "cell_type": "code",
      "metadata": {
        "id": "uHWj65kyj6Cg",
        "colab_type": "code",
        "colab": {}
      },
      "source": [
        "import numpy as np\n",
        "import time\n",
        "import sys\n",
        "import os\n",
        "import random\n",
        "from skimage import io\n",
        "import pandas as pd\n",
        "from matplotlib import pyplot as plt\n",
        "from shutil import copyfile\n",
        "\n",
        "import cv2\n",
        "import tensorflow as tf"
      ],
      "execution_count": 0,
      "outputs": []
    },
    {
      "cell_type": "code",
      "metadata": {
        "id": "HtlA7VwvkFQP",
        "colab_type": "code",
        "colab": {}
      },
      "source": [
        "images_boxable_fname = 'train-images-boxable.csv'\n",
        "annotations_bbox_fname = 'train-annotations-bbox.csv'\n",
        "class_descriptions_fname = 'classdes.csv'"
      ],
      "execution_count": 0,
      "outputs": []
    },
    {
      "cell_type": "code",
      "metadata": {
        "id": "-CKOtuxQm-Po",
        "colab_type": "code",
        "outputId": "4b274eb3-fa2c-4306-f23a-e8b369405d15",
        "colab": {
          "base_uri": "https://localhost:8080/",
          "height": 206
        }
      },
      "source": [
        "base_path = 'newdataset/'\n",
        "images_boxable = pd.read_csv(os.path.join(base_path, images_boxable_fname))\n",
        "images_boxable.head()"
      ],
      "execution_count": 0,
      "outputs": [
        {
          "output_type": "execute_result",
          "data": {
            "text/html": [
              "<div>\n",
              "<style scoped>\n",
              "    .dataframe tbody tr th:only-of-type {\n",
              "        vertical-align: middle;\n",
              "    }\n",
              "\n",
              "    .dataframe tbody tr th {\n",
              "        vertical-align: top;\n",
              "    }\n",
              "\n",
              "    .dataframe thead th {\n",
              "        text-align: right;\n",
              "    }\n",
              "</style>\n",
              "<table border=\"1\" class=\"dataframe\">\n",
              "  <thead>\n",
              "    <tr style=\"text-align: right;\">\n",
              "      <th></th>\n",
              "      <th>image_name</th>\n",
              "      <th>image_url</th>\n",
              "    </tr>\n",
              "  </thead>\n",
              "  <tbody>\n",
              "    <tr>\n",
              "      <th>0</th>\n",
              "      <td>e39871fd9fd74f55.jpg</td>\n",
              "      <td>https://requestor-proxy.figure-eight.com/figur...</td>\n",
              "    </tr>\n",
              "    <tr>\n",
              "      <th>1</th>\n",
              "      <td>f18b91585c4d3f3e.jpg</td>\n",
              "      <td>https://requestor-proxy.figure-eight.com/figur...</td>\n",
              "    </tr>\n",
              "    <tr>\n",
              "      <th>2</th>\n",
              "      <td>ede6e66b2fb59aab.jpg</td>\n",
              "      <td>https://requestor-proxy.figure-eight.com/figur...</td>\n",
              "    </tr>\n",
              "    <tr>\n",
              "      <th>3</th>\n",
              "      <td>ed600d57fcee4f94.jpg</td>\n",
              "      <td>https://requestor-proxy.figure-eight.com/figur...</td>\n",
              "    </tr>\n",
              "    <tr>\n",
              "      <th>4</th>\n",
              "      <td>ff47e649b23f446d.jpg</td>\n",
              "      <td>https://requestor-proxy.figure-eight.com/figur...</td>\n",
              "    </tr>\n",
              "  </tbody>\n",
              "</table>\n",
              "</div>"
            ],
            "text/plain": [
              "             image_name                                          image_url\n",
              "0  e39871fd9fd74f55.jpg  https://requestor-proxy.figure-eight.com/figur...\n",
              "1  f18b91585c4d3f3e.jpg  https://requestor-proxy.figure-eight.com/figur...\n",
              "2  ede6e66b2fb59aab.jpg  https://requestor-proxy.figure-eight.com/figur...\n",
              "3  ed600d57fcee4f94.jpg  https://requestor-proxy.figure-eight.com/figur...\n",
              "4  ff47e649b23f446d.jpg  https://requestor-proxy.figure-eight.com/figur..."
            ]
          },
          "metadata": {
            "tags": []
          },
          "execution_count": 22
        }
      ]
    },
    {
      "cell_type": "code",
      "metadata": {
        "id": "mxZM3CD1puN4",
        "colab_type": "code",
        "colab": {}
      },
      "source": [
        "annotations_bbox = pd.read_csv(os.path.join(base_path, annotations_bbox_fname))\n",
        "class_descriptions = pd.read_csv(os.path.join(base_path, class_descriptions_fname))"
      ],
      "execution_count": 0,
      "outputs": []
    },
    {
      "cell_type": "code",
      "metadata": {
        "id": "XsanTyCmqZ8J",
        "colab_type": "code",
        "outputId": "b1d0a85b-aceb-4939-a479-5bc5a5dcb315",
        "colab": {
          "base_uri": "https://localhost:8080/",
          "height": 206
        }
      },
      "source": [
        "class_descriptions.head()"
      ],
      "execution_count": 0,
      "outputs": [
        {
          "output_type": "execute_result",
          "data": {
            "text/html": [
              "<div>\n",
              "<style scoped>\n",
              "    .dataframe tbody tr th:only-of-type {\n",
              "        vertical-align: middle;\n",
              "    }\n",
              "\n",
              "    .dataframe tbody tr th {\n",
              "        vertical-align: top;\n",
              "    }\n",
              "\n",
              "    .dataframe thead th {\n",
              "        text-align: right;\n",
              "    }\n",
              "</style>\n",
              "<table border=\"1\" class=\"dataframe\">\n",
              "  <thead>\n",
              "    <tr style=\"text-align: right;\">\n",
              "      <th></th>\n",
              "      <th>name</th>\n",
              "      <th>class</th>\n",
              "    </tr>\n",
              "  </thead>\n",
              "  <tbody>\n",
              "    <tr>\n",
              "      <th>0</th>\n",
              "      <td>/m/011k07</td>\n",
              "      <td>Tortoise</td>\n",
              "    </tr>\n",
              "    <tr>\n",
              "      <th>1</th>\n",
              "      <td>/m/011q46kg</td>\n",
              "      <td>Container</td>\n",
              "    </tr>\n",
              "    <tr>\n",
              "      <th>2</th>\n",
              "      <td>/m/012074</td>\n",
              "      <td>Magpie</td>\n",
              "    </tr>\n",
              "    <tr>\n",
              "      <th>3</th>\n",
              "      <td>/m/0120dh</td>\n",
              "      <td>Sea turtle</td>\n",
              "    </tr>\n",
              "    <tr>\n",
              "      <th>4</th>\n",
              "      <td>/m/01226z</td>\n",
              "      <td>Football</td>\n",
              "    </tr>\n",
              "  </tbody>\n",
              "</table>\n",
              "</div>"
            ],
            "text/plain": [
              "          name       class\n",
              "0    /m/011k07    Tortoise\n",
              "1  /m/011q46kg   Container\n",
              "2    /m/012074      Magpie\n",
              "3    /m/0120dh  Sea turtle\n",
              "4    /m/01226z    Football"
            ]
          },
          "metadata": {
            "tags": []
          },
          "execution_count": 24
        }
      ]
    },
    {
      "cell_type": "code",
      "metadata": {
        "id": "3uMMZ8IkpbKv",
        "colab_type": "code",
        "colab": {}
      },
      "source": [
        "person_pd = class_descriptions[class_descriptions['class']=='Person']\n",
        "phone_pd = class_descriptions[class_descriptions['class']=='Mobile phone']\n",
        "car_pd = class_descriptions[class_descriptions['class']=='Car']\n",
        "\n",
        "label_name_person = person_pd['name'].values[0]\n",
        "label_name_phone = phone_pd['name'].values[0]\n",
        "label_name_car = car_pd['name'].values[0]"
      ],
      "execution_count": 0,
      "outputs": []
    },
    {
      "cell_type": "code",
      "metadata": {
        "id": "umciK1U2prHk",
        "colab_type": "code",
        "outputId": "264e5b1f-9df4-4a9e-dbeb-d2f8d4b4ec5a",
        "colab": {
          "base_uri": "https://localhost:8080/",
          "height": 129
        }
      },
      "source": [
        "print(person_pd)\n",
        "print(phone_pd)\n",
        "print(car_pd)"
      ],
      "execution_count": 0,
      "outputs": [
        {
          "output_type": "stream",
          "text": [
            "         name   class\n",
            "68  /m/01g317  Person\n",
            "         name         class\n",
            "312  /m/050k8  Mobile phone\n",
            "        name class\n",
            "570  /m/0k4j   Car\n"
          ],
          "name": "stdout"
        }
      ]
    },
    {
      "cell_type": "code",
      "metadata": {
        "id": "P0Dt_BMCq67q",
        "colab_type": "code",
        "colab": {}
      },
      "source": [
        "person_bbox = annotations_bbox[annotations_bbox['LabelName']==label_name_person]\n",
        "phone_bbox = annotations_bbox[annotations_bbox['LabelName']==label_name_phone]\n",
        "car_bbox = annotations_bbox[annotations_bbox['LabelName']==label_name_car]"
      ],
      "execution_count": 0,
      "outputs": []
    },
    {
      "cell_type": "code",
      "metadata": {
        "id": "YABNLqqIq975",
        "colab_type": "code",
        "outputId": "66947de4-6474-4b8d-f594-2d9840c07f08",
        "colab": {
          "base_uri": "https://localhost:8080/",
          "height": 73
        }
      },
      "source": [
        "\n",
        "\n",
        "print('There are %d persons in the dataset' %(len(person_bbox)))\n",
        "print('There are %d phones in the dataset' %(len(phone_bbox)))\n",
        "print('There are %d cars in the dataset' %(len(car_bbox)))\n",
        "person_img_id = person_bbox['ImageID']\n",
        "phone_img_id = phone_bbox['ImageID']\n",
        "car_img_id = car_bbox['ImageID']\n",
        "\n"
      ],
      "execution_count": 0,
      "outputs": [
        {
          "output_type": "stream",
          "text": [
            "There are 1034721 persons in the dataset\n",
            "There are 6365 phones in the dataset\n",
            "There are 248075 cars in the dataset\n"
          ],
          "name": "stdout"
        }
      ]
    },
    {
      "cell_type": "code",
      "metadata": {
        "id": "PR9kxgTBrF4z",
        "colab_type": "code",
        "outputId": "c55c904a-07b4-4543-9429-baadb4a108e7",
        "colab": {
          "base_uri": "https://localhost:8080/",
          "height": 73
        }
      },
      "source": [
        "person_img_id = np.unique(person_img_id)\n",
        "phone_img_id = np.unique(phone_img_id)\n",
        "car_img_id = np.unique(car_img_id)\n",
        "print('There are %d images which contain persons' % (len(person_img_id)))\n",
        "print('There are %d images which contain phones' % (len(phone_img_id)))\n",
        "print('There are %d images which contain cars' % (len(car_img_id)))"
      ],
      "execution_count": 0,
      "outputs": [
        {
          "output_type": "stream",
          "text": [
            "There are 248384 images which contain persons\n",
            "There are 4312 images which contain phones\n",
            "There are 89465 images which contain cars\n"
          ],
          "name": "stdout"
        }
      ]
    },
    {
      "cell_type": "code",
      "metadata": {
        "id": "LpnI0Dw0rIgF",
        "colab_type": "code",
        "colab": {}
      },
      "source": [
        "copy_person_id = person_img_id.copy()\n",
        "random.seed(1)\n",
        "random.shuffle(copy_person_id)\n",
        "\n",
        "copy_phone_id = phone_img_id.copy()\n",
        "random.seed(1)\n",
        "random.shuffle(copy_phone_id)\n",
        "\n",
        "copy_car_id = car_img_id.copy()\n",
        "random.seed(1)\n",
        "random.shuffle(copy_car_id)\n",
        "\n",
        "n = 500\n",
        "subperson_img_id = copy_person_id[:n]\n",
        "subphone_img_id = copy_phone_id[:n]\n",
        "subcar_img_id = copy_car_id[:n]"
      ],
      "execution_count": 0,
      "outputs": []
    },
    {
      "cell_type": "code",
      "metadata": {
        "id": "q-v2N-jurNP2",
        "colab_type": "code",
        "colab": {}
      },
      "source": [
        "subperson_img_url = [images_boxable[images_boxable['image_name']==name+'.jpg'] for name in subperson_img_id]\n",
        "subphone_img_url = [images_boxable[images_boxable['image_name']==name+'.jpg'] for name in subphone_img_id]\n",
        "subcar_img_url = [images_boxable[images_boxable['image_name']==name+'.jpg'] for name in subcar_img_id]"
      ],
      "execution_count": 0,
      "outputs": []
    },
    {
      "cell_type": "code",
      "metadata": {
        "id": "qW6a2-AtrVH2",
        "colab_type": "code",
        "colab": {}
      },
      "source": [
        "subperson_pd = pd.DataFrame()\n",
        "subphone_pd = pd.DataFrame()\n",
        "subcar_pd = pd.DataFrame()\n",
        "for i in range(len(subperson_img_url)):\n",
        "    subperson_pd = subperson_pd.append(subperson_img_url[i], ignore_index = True)\n",
        "    subphone_pd = subphone_pd.append(subphone_img_url[i], ignore_index = True)\n",
        "    subcar_pd = subcar_pd.append(subcar_img_url[i], ignore_index = True)\n",
        "subperson_pd.to_csv(os.path.join(base_path, 'person_img_url.csv'))\n",
        "subphone_pd.to_csv(os.path.join(base_path, 'phone_img_url.csv'))\n",
        "subcar_pd.to_csv(os.path.join(base_path, 'car_img_url.csv'))"
      ],
      "execution_count": 0,
      "outputs": []
    },
    {
      "cell_type": "code",
      "metadata": {
        "id": "juOPv6Prrhq0",
        "colab_type": "code",
        "colab": {}
      },
      "source": [
        "subperson_img_url = [url['image_url'].values[0] for url in subperson_img_url]\n",
        "subphone_img_url = [url['image_url'].values[0] for url in subphone_img_url]\n",
        "subcar_img_url = [url['image_url'].values[0] for url in subcar_img_url]\n",
        "urls = [subperson_img_url, subphone_img_url, subcar_img_url]"
      ],
      "execution_count": 0,
      "outputs": []
    },
    {
      "cell_type": "code",
      "metadata": {
        "id": "Euh6yNCFrnSh",
        "colab_type": "code",
        "colab": {}
      },
      "source": [
        "subperson_pd = pd.read_csv('newdataset/person_img_url.csv')\n",
        "subphone_pd = pd.read_csv('newdataset/phone_img_url.csv')\n",
        "subcar_pd = pd.read_csv('newdataset/car_img_url.csv')\n",
        "\n",
        "subperson_img_url = subperson_pd['image_url'].values\n",
        "subphone_img_url = subphone_pd['image_url'].values\n",
        "subcar_img_url = subcar_pd['image_url'].values\n",
        "\n",
        "urls = [subperson_img_url, subphone_img_url, subcar_img_url]"
      ],
      "execution_count": 0,
      "outputs": []
    },
    {
      "cell_type": "code",
      "metadata": {
        "id": "HPZpxGCorwiG",
        "colab_type": "code",
        "colab": {}
      },
      "source": [
        "saved_dirs = [os.path.join(base_path,'Person'),os.path.join(base_path,'Mobile phone'),os.path.join(base_path,'Car')]"
      ],
      "execution_count": 0,
      "outputs": []
    },
    {
      "cell_type": "code",
      "metadata": {
        "id": "E_sW8YCvssMg",
        "colab_type": "code",
        "colab": {}
      },
      "source": [
        "classes = ['Person', 'Mobile phone', 'Car']"
      ],
      "execution_count": 0,
      "outputs": []
    },
    {
      "cell_type": "code",
      "metadata": {
        "id": "_1QkXFjOsufL",
        "colab_type": "code",
        "colab": {}
      },
      "source": [
        "print(len(urls[0]))\n",
        "print(urls[0][0])\n",
        "print(saved_dirs)"
      ],
      "execution_count": 0,
      "outputs": []
    },
    {
      "cell_type": "code",
      "metadata": {
        "id": "ki-9xUeIswwC",
        "colab_type": "code",
        "colab": {}
      },
      "source": [
        "for i in range(len(classes)):\n",
        "    # Create the directory\n",
        "    os.mkdir(saved_dirs[i])\n",
        "    saved_dir = saved_dirs[i]\n",
        "    for url in urls[i]:\n",
        "        # print(url)\n",
        "        img = io.imread(url)\n",
        "        saved_path = os.path.join(saved_dir, url[-20:])\n",
        "        io.imsave(saved_path, img)"
      ],
      "execution_count": 0,
      "outputs": []
    },
    {
      "cell_type": "code",
      "metadata": {
        "id": "qdD9JQIps9_R",
        "colab_type": "code",
        "colab": {}
      },
      "source": [
        "# Save images to train and test directory\n",
        "train_path = os.path.join(base_path, 'train')\n",
        "os.mkdir(train_path)\n",
        "test_path = os.path.join(base_path, 'test')\n",
        "os.mkdir(test_path)\n",
        "\n",
        "for i in range(len(classes)):\n",
        "    \n",
        "    all_imgs = os.listdir(os.path.join(base_path, classes[i]))\n",
        "    all_imgs = [f for f in all_imgs if not f.startswith('.')]\n",
        "    random.seed(1)\n",
        "    random.shuffle(all_imgs)\n",
        "    \n",
        "    train_imgs = all_imgs[:400]\n",
        "    test_imgs = all_imgs[400:]\n",
        "    \n",
        "    # Copy each classes' images to train directory\n",
        "    for j in range(len(train_imgs)):\n",
        "        original_path = os.path.join(os.path.join(base_path, classes[i]), train_imgs[j])\n",
        "        new_path = os.path.join(train_path, train_imgs[j])\n",
        "        copyfile(original_path, new_path)\n",
        "    \n",
        "    # Copy each classes' images to test directory\n",
        "    for j in range(len(test_imgs)):\n",
        "        original_path = os.path.join(os.path.join(base_path, classes[i]), test_imgs[j])\n",
        "        new_path = os.path.join(test_path, test_imgs[j])\n",
        "        copyfile(original_path, new_path)"
      ],
      "execution_count": 0,
      "outputs": []
    },
    {
      "cell_type": "code",
      "metadata": {
        "id": "VOoLPAs7tUU5",
        "colab_type": "code",
        "colab": {}
      },
      "source": [
        "print('number of training images: ', len(os.listdir('newdataset/train'))) # subtract one because there is one hidden file named '.DS_Store'\n",
        "print('number of test images: ', len(os.listdir(test_path)))"
      ],
      "execution_count": 0,
      "outputs": []
    },
    {
      "cell_type": "markdown",
      "metadata": {
        "id": "dYSvMrYyYGr0",
        "colab_type": "text"
      },
      "source": [
        ""
      ]
    },
    {
      "cell_type": "code",
      "metadata": {
        "id": "mXQG7wUItaPL",
        "colab_type": "code",
        "outputId": "5be140d5-b530-4399-9753-93befb35ae90",
        "colab": {
          "base_uri": "https://localhost:8080/",
          "height": 17
        }
      },
      "source": [
        "label_names = [label_name_person, label_name_phone, label_name_car]\n",
        "\n",
        "train_df = pd.DataFrame(columns=['FileName', 'XMin', 'XMax', 'YMin', 'YMax', 'ClassName'])\n",
        "\n",
        "# Find boxes in each image and put them in a dataframe\n",
        "train_imgs = os.listdir(train_path)\n",
        "train_imgs = [name for name in train_imgs if not name.startswith('.')]\n",
        "\n",
        "for i in range(len(train_imgs)):\n",
        "    sys.stdout.write('Parse train_imgs ' + str(i) + '; Number of boxes: ' + str(len(train_df)) + '\\r')\n",
        "    sys.stdout.flush()\n",
        "    img_name = train_imgs[i]\n",
        "    img_id = img_name[0:16]\n",
        "    tmp_df = annotations_bbox[annotations_bbox['ImageID']==img_id]\n",
        "    for index, row in tmp_df.iterrows():\n",
        "        labelName = row['LabelName']\n",
        "        for i in range(len(label_names)):\n",
        "            if labelName == label_names[i]:\n",
        "                train_df = train_df.append({'FileName': img_name, \n",
        "                                            'XMin': row['XMin'], \n",
        "                                            'XMax': row['XMax'], \n",
        "                                            'YMin': row['YMin'], \n",
        "                                            'YMax': row['YMax'], \n",
        "                                            'ClassName': classes[i]}, \n",
        "                                           ignore_index=True)"
      ],
      "execution_count": 0,
      "outputs": [
        {
          "output_type": "stream",
          "text": [
            ""
          ],
          "name": "stdout"
        }
      ]
    },
    {
      "cell_type": "code",
      "metadata": {
        "id": "p_14BI6Ftd_1",
        "colab_type": "code",
        "outputId": "ed37662a-4db9-4fca-9adb-d4e95cb13d9b",
        "colab": {
          "base_uri": "https://localhost:8080/",
          "height": 17
        }
      },
      "source": [
        "test_df = pd.DataFrame(columns=['FileName', 'XMin', 'XMax', 'YMin', 'YMax', 'ClassName'])\n",
        "\n",
        "# Find boxes in each image and put them in a dataframe\n",
        "test_imgs = os.listdir(test_path)\n",
        "test_imgs = [name for name in test_imgs if not name.startswith('.')]\n",
        "\n",
        "for i in range(len(test_imgs)):\n",
        "    sys.stdout.write('Parse test_imgs ' + str(i) + '; Number of boxes: ' + str(len(test_df)) + '\\r')\n",
        "    sys.stdout.flush()\n",
        "    img_name = test_imgs[i]\n",
        "    img_id = img_name[0:16]\n",
        "    tmp_df = annotations_bbox[annotations_bbox['ImageID']==img_id]\n",
        "    for index, row in tmp_df.iterrows():\n",
        "        labelName = row['LabelName']\n",
        "        for i in range(len(label_names)):\n",
        "            if labelName == label_names[i]:\n",
        "                test_df = test_df.append({'FileName': img_name, \n",
        "                                            'XMin': row['XMin'], \n",
        "                                            'XMax': row['XMax'], \n",
        "                                            'YMin': row['YMin'], \n",
        "                                            'YMax': row['YMax'], \n",
        "                                            'ClassName': classes[i]}, \n",
        "                                           ignore_index=True)"
      ],
      "execution_count": 0,
      "outputs": [
        {
          "output_type": "stream",
          "text": [
            ""
          ],
          "name": "stdout"
        }
      ]
    },
    {
      "cell_type": "code",
      "metadata": {
        "id": "7XN3B2ettqMv",
        "colab_type": "code",
        "colab": {}
      },
      "source": [
        "\n",
        "\n",
        "train_df.to_csv(os.path.join(base_path, 'train.csv'))\n",
        "test_df.to_csv(os.path.join(base_path, 'test.csv'))\n",
        "\n"
      ],
      "execution_count": 0,
      "outputs": []
    },
    {
      "cell_type": "code",
      "metadata": {
        "id": "YAh-sbQit4Zt",
        "colab_type": "code",
        "colab": {}
      },
      "source": [
        "train_df = pd.read_csv(os.path.join(base_path, 'train.csv'))\n",
        "\n",
        "# For training\n",
        "f= open(base_path + \"/annotation12345.txt\",\"w+\")\n",
        "for idx, row in train_df.iterrows():\n",
        "#     sys.stdout.write(str(idx) + '\\r')\n",
        "#     sys.stdout.flush()\n",
        "    img = cv2.imread((base_path + '/train/' + row['FileName']))\n",
        "    height, width = img.shape[:2]\n",
        "    x1 = int(row['XMin'] * width)\n",
        "    x2 = int(row['XMax'] * width)\n",
        "    y1 = int(row['YMin'] * height)\n",
        "    y2 = int(row['YMax'] * height)\n",
        "    \n",
        "    google_colab_file_path = 'newdataset/train'\n",
        "    fileName = os.path.join(google_colab_file_path, row['FileName'])\n",
        "    className = row['ClassName']\n",
        "    f.write(fileName + ',' + str(x1) + ',' + str(y1) + ',' + str(x2) + ',' + str(y2) + ',' + className + '\\n')\n",
        "f.close()"
      ],
      "execution_count": 0,
      "outputs": []
    },
    {
      "cell_type": "code",
      "metadata": {
        "id": "u_6hqXGbuQlN",
        "colab_type": "code",
        "outputId": "667e4da0-8ca2-40ff-9b6b-9db973a75185",
        "colab": {
          "base_uri": "https://localhost:8080/",
          "height": 167
        }
      },
      "source": [
        "print(test_df.head())\n",
        "test_df = pd.read_csv(os.path.join(base_path, 'test.csv'))\n",
        "\n",
        "# For test\n",
        "f= open(base_path + \"/test_annotation12345.txt\",\"w+\")\n",
        "for idx, row in test_df.iterrows():\n",
        "    sys.stdout.write(str(idx) + '\\r')\n",
        "    sys.stdout.flush()\n",
        "    img = cv2.imread((base_path + '/test/' + row['FileName']))\n",
        "    height, width = img.shape[:2]\n",
        "    x1 = int(row['XMin'] * width)\n",
        "    x2 = int(row['XMax'] * width)\n",
        "    y1 = int(row['YMin'] * height)\n",
        "    y2 = int(row['YMax'] * height)\n",
        "    \n",
        "    google_colab_file_path = 'newdataset/test'\n",
        "    fileName = os.path.join(google_colab_file_path, row['FileName'])\n",
        "    className = row['ClassName']\n",
        "    f.write(fileName + ',' + str(x1) + ',' + str(y1) + ',' + str(x2) + ',' + str(y2) + ',' + className + '\\n')\n",
        "f.close()"
      ],
      "execution_count": 0,
      "outputs": [
        {
          "output_type": "stream",
          "text": [
            "   Unnamed: 0              FileName      XMin  ...      YMin      YMax  ClassName\n",
            "0           0  47df981ba82e224c.jpg  0.359375  ...  0.198333  0.925000     Person\n",
            "1           1  47df981ba82e224c.jpg  0.303125  ...  0.361667  0.449167     Person\n",
            "2           2  47df981ba82e224c.jpg  0.403750  ...  0.371667  0.395833     Person\n",
            "3           3  47df981ba82e224c.jpg  0.666250  ...  0.363333  0.487500     Person\n",
            "4           4  073af2b33d6dae8d.jpg  0.268750  ...  0.188333  0.901667     Person\n",
            "\n",
            "[5 rows x 7 columns]\n"
          ],
          "name": "stdout"
        }
      ]
    }
  ]
}