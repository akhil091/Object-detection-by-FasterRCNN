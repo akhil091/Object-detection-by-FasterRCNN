{
  "nbformat": 4,
  "nbformat_minor": 0,
  "metadata": {
    "colab": {
      "name": "frcnn_test",
      "version": "0.3.2",
      "provenance": [],
      "collapsed_sections": [],
      "include_colab_link": true
    },
    "kernelspec": {
      "name": "python3",
      "display_name": "Python 3"
    },
    "accelerator": "GPU"
  },
  "cells": [
    {
      "cell_type": "markdown",
      "metadata": {
        "id": "view-in-github",
        "colab_type": "text"
      },
      "source": [
        "<a href=\"https://colab.research.google.com/github/akhil091/Object-detection-by-FasterRCNN/blob/master/frcnn_test.ipynb\" target=\"_parent\"><img src=\"https://colab.research.google.com/assets/colab-badge.svg\" alt=\"Open In Colab\"/></a>"
      ]
    },
    {
      "cell_type": "code",
      "metadata": {
        "id": "dErQXKy2-7qo",
        "colab_type": "code",
        "colab": {}
      },
      "source": [
        "\n",
        "\n",
        "test_path = 'newdataset/test_annotation12345.txt' # Test data (annotation file)\n",
        "\n",
        "test_base_path = 'newdataset/test' # Directory to save the test images\n",
        "\n",
        "config_output_filename = os.path.join('model_vgg_config.pickle')"
      ],
      "execution_count": 0,
      "outputs": []
    },
    {
      "cell_type": "code",
      "metadata": {
        "id": "aVCygQRg_zi0",
        "colab_type": "code",
        "colab": {}
      },
      "source": [
        "with open(config_output_filename, 'rb') as f_in:\n",
        "\tC = pickle.load(f_in)\n",
        "\n",
        "# turn off any data augmentation at test time\n",
        "C.use_horizontal_flips = False\n",
        "C.use_vertical_flips = False\n",
        "C.rot_90 = False"
      ],
      "execution_count": 0,
      "outputs": []
    },
    {
      "cell_type": "code",
      "metadata": {
        "id": "TzatGpa3AHw8",
        "colab_type": "code",
        "colab": {}
      },
      "source": [
        "def format_img_size(img, C):\n",
        "\t\"\"\" formats the image size based on config \"\"\"\n",
        "\timg_min_side = float(C.im_size)\n",
        "\t(height,width,_) = img.shape\n",
        "\t\t\n",
        "\tif width <= height:\n",
        "\t\tratio = img_min_side/width\n",
        "\t\tnew_height = int(ratio * height)\n",
        "\t\tnew_width = int(img_min_side)\n",
        "\telse:\n",
        "\t\tratio = img_min_side/height\n",
        "\t\tnew_width = int(ratio * width)\n",
        "\t\tnew_height = int(img_min_side)\n",
        "\timg = cv2.resize(img, (new_width, new_height), interpolation=cv2.INTER_CUBIC)\n",
        "\treturn img, ratio\t\n",
        "\n",
        "def format_img_channels(img, C):\n",
        "\t\"\"\" formats the image channels based on config \"\"\"\n",
        "\timg = img[:, :, (2, 1, 0)]\n",
        "\timg = img.astype(np.float32)\n",
        "\timg[:, :, 0] -= C.img_channel_mean[0]\n",
        "\timg[:, :, 1] -= C.img_channel_mean[1]\n",
        "\timg[:, :, 2] -= C.img_channel_mean[2]\n",
        "\timg /= C.img_scaling_factor\n",
        "\timg = np.transpose(img, (2, 0, 1))\n",
        "\timg = np.expand_dims(img, axis=0)\n",
        "\treturn img\n",
        "\n",
        "def format_img(img, C):\n",
        "\t\"\"\" formats an image for model prediction based on config \"\"\"\n",
        "\timg, ratio = format_img_size(img, C)\n",
        "\timg = format_img_channels(img, C)\n",
        "\treturn img, ratio\n",
        "\n",
        "# Method to transform the coordinates of the bounding box to its original size\n",
        "def get_real_coordinates(ratio, x1, y1, x2, y2):\n",
        "\n",
        "\treal_x1 = int(round(x1 // ratio))\n",
        "\treal_y1 = int(round(y1 // ratio))\n",
        "\treal_x2 = int(round(x2 // ratio))\n",
        "\treal_y2 = int(round(y2 // ratio))\n",
        "\n",
        "\treturn (real_x1, real_y1, real_x2 ,real_y2)"
      ],
      "execution_count": 0,
      "outputs": []
    },
    {
      "cell_type": "code",
      "metadata": {
        "id": "t7sTzdmMAQHx",
        "colab_type": "code",
        "outputId": "a88a05a9-414d-439a-e142-f33dce4e21bf",
        "colab": {
          "base_uri": "https://localhost:8080/",
          "height": 36
        }
      },
      "source": [
        "num_features = 512\n",
        "\n",
        "input_shape_img = (None, None, 3)\n",
        "input_shape_features = (None, None, num_features)\n",
        "\n",
        "img_input = Input(shape=input_shape_img)\n",
        "roi_input = Input(shape=(C.num_rois, 4))\n",
        "feature_map_input = Input(shape=input_shape_features)\n",
        "\n",
        "# define the base network (VGG here, can be Resnet50, Inception, etc)\n",
        "shared_layers = nn_base(img_input, trainable=True)\n",
        "\n",
        "# define the RPN, built on the base layers\n",
        "num_anchors = len(C.anchor_box_scales) * len(C.anchor_box_ratios)\n",
        "rpn_layers = rpn_layer(shared_layers, num_anchors)\n",
        "\n",
        "classifier = classifier_layer(feature_map_input, roi_input, C.num_rois, nb_classes=len(C.class_mapping))\n",
        "\n",
        "model_rpn = Model(img_input, rpn_layers)\n",
        "model_classifier_only = Model([feature_map_input, roi_input], classifier)\n",
        "\n",
        "model_classifier = Model([feature_map_input, roi_input], classifier)\n",
        "\n",
        "print('Loading weights from {}'.format(C.model_path))\n",
        "model_rpn.load_weights(C.model_path, by_name=True)\n",
        "model_classifier.load_weights(C.model_path, by_name=True)\n",
        "\n",
        "model_rpn.compile(optimizer='sgd', loss='mse')\n",
        "model_classifier.compile(optimizer='sgd', loss='mse')"
      ],
      "execution_count": 0,
      "outputs": [
        {
          "output_type": "stream",
          "text": [
            "Loading weights from model_frcnn_vgg.hdf5\n"
          ],
          "name": "stdout"
        }
      ]
    },
    {
      "cell_type": "code",
      "metadata": {
        "id": "cZgzXGzNATmR",
        "colab_type": "code",
        "outputId": "63f1ab87-5e2e-4307-a385-577af48390e1",
        "colab": {
          "base_uri": "https://localhost:8080/",
          "height": 36
        }
      },
      "source": [
        "class_mapping = C.class_mapping\n",
        "class_mapping = {v: k for k, v in class_mapping.items()}\n",
        "print(class_mapping)\n",
        "class_to_color = {class_mapping[v]: np.random.randint(0, 255, 3) for v in class_mapping}"
      ],
      "execution_count": 0,
      "outputs": [
        {
          "output_type": "stream",
          "text": [
            "{0: 'Mobile phone', 1: 'Person', 2: 'Car', 3: 'bg'}\n"
          ],
          "name": "stdout"
        }
      ]
    },
    {
      "cell_type": "code",
      "metadata": {
        "id": "HK6EbrdTAaST",
        "colab_type": "code",
        "colab": {}
      },
      "source": [
        "test_imgs = os.listdir(test_base_path)\n",
        "\n",
        "imgs_path = []\n",
        "for i in range(12):\n",
        "\tidx = np.random.randint(len(test_imgs))\n",
        "\timgs_path.append(test_imgs[idx])\n",
        "\n",
        "all_imgs = []\n",
        "\n",
        "classes = {}"
      ],
      "execution_count": 0,
      "outputs": []
    },
    {
      "cell_type": "code",
      "metadata": {
        "id": "GIBKozcwAdzf",
        "colab_type": "code",
        "colab": {}
      },
      "source": [
        "bbox_threshold = 0.1\n",
        "\n",
        "for idx, img_name in enumerate(imgs_path):\n",
        "    if not img_name.lower().endswith(('.bmp', '.jpeg', '.jpg', '.png', '.tif', '.tiff')):\n",
        "        continue\n",
        "    print(img_name)\n",
        "    st = time.time()\n",
        "    filepath = os.path.join(test_base_path, img_name)\n",
        "\n",
        "    img = cv2.imread(filepath)\n",
        "\n",
        "    X, ratio = format_img(img, C)\n",
        "    \n",
        "    X = np.transpose(X, (0, 2, 3, 1))\n",
        "\n",
        "    # get output layer Y1, Y2 from the RPN and the feature maps F\n",
        "    # Y1: y_rpn_cls\n",
        "    # Y2: y_rpn_regr\n",
        "    [Y1, Y2, F] = model_rpn.predict(X)\n",
        "\n",
        "    # Get bboxes by applying NMS \n",
        "    # R.shape = (300, 4)\n",
        "    R = rpn_to_roi(Y1, Y2, C, K.image_dim_ordering(), overlap_thresh=0.7)\n",
        "\n",
        "    # convert from (x1,y1,x2,y2) to (x,y,w,h)\n",
        "    R[:, 2] -= R[:, 0]\n",
        "    R[:, 3] -= R[:, 1]\n",
        "\n",
        "    # apply the spatial pyramid pooling to the proposed regions\n",
        "    bboxes = {}\n",
        "    probs = {}\n",
        "\n",
        "    for jk in range(R.shape[0]//C.num_rois + 1):\n",
        "        ROIs = np.expand_dims(R[C.num_rois*jk:C.num_rois*(jk+1), :], axis=0)\n",
        "        if ROIs.shape[1] == 0:\n",
        "            break\n",
        "\n",
        "        if jk == R.shape[0]//C.num_rois:\n",
        "            #pad R\n",
        "            curr_shape = ROIs.shape\n",
        "            target_shape = (curr_shape[0],C.num_rois,curr_shape[2])\n",
        "            ROIs_padded = np.zeros(target_shape).astype(ROIs.dtype)\n",
        "            ROIs_padded[:, :curr_shape[1], :] = ROIs\n",
        "            ROIs_padded[0, curr_shape[1]:, :] = ROIs[0, 0, :]\n",
        "            ROIs = ROIs_padded\n",
        "\n",
        "        [P_cls, P_regr] = model_classifier_only.predict([F, ROIs])\n",
        "\n",
        "        # Calculate bboxes coordinates on resized image\n",
        "        for ii in range(P_cls.shape[1]):\n",
        "            # Ignore 'bg' class\n",
        "            if np.max(P_cls[0, ii, :]) < bbox_threshold or np.argmax(P_cls[0, ii, :]) == (P_cls.shape[2] - 1):\n",
        "                continue\n",
        "\n",
        "            cls_name = class_mapping[np.argmax(P_cls[0, ii, :])]\n",
        "\n",
        "            if cls_name not in bboxes:\n",
        "                bboxes[cls_name] = []\n",
        "                probs[cls_name] = []\n",
        "\n",
        "            (x, y, w, h) = ROIs[0, ii, :]\n",
        "\n",
        "            cls_num = np.argmax(P_cls[0, ii, :])\n",
        "            try:\n",
        "                (tx, ty, tw, th) = P_regr[0, ii, 4*cls_num:4*(cls_num+1)]\n",
        "                tx /= C.classifier_regr_std[0]\n",
        "                ty /= C.classifier_regr_std[1]\n",
        "                tw /= C.classifier_regr_std[2]\n",
        "                th /= C.classifier_regr_std[3]\n",
        "                x, y, w, h = apply_regr(x, y, w, h, tx, ty, tw, th)\n",
        "            except:\n",
        "                pass\n",
        "            bboxes[cls_name].append([C.rpn_stride*x, C.rpn_stride*y, C.rpn_stride*(x+w), C.rpn_stride*(y+h)])\n",
        "            probs[cls_name].append(np.max(P_cls[0, ii, :]))\n",
        "\n",
        "    all_dets = []\n",
        "\n",
        "    for key in bboxes:\n",
        "        bbox = np.array(bboxes[key])\n",
        "\n",
        "        new_boxes, new_probs = non_max_suppression_fast(bbox, np.array(probs[key]), overlap_thresh=0.2)\n",
        "        for jk in range(new_boxes.shape[0]):\n",
        "            (x1, y1, x2, y2) = new_boxes[jk,:]\n",
        "\n",
        "            # Calculate real coordinates on original image\n",
        "            (real_x1, real_y1, real_x2, real_y2) = get_real_coordinates(ratio, x1, y1, x2, y2)\n",
        "\n",
        "            cv2.rectangle(img,(real_x1, real_y1), (real_x2, real_y2), (int(class_to_color[key][0]), int(class_to_color[key][1]), int(class_to_color[key][2])),4)\n",
        "\n",
        "            textLabel = '{}: {}'.format(key,int(100*new_probs[jk]))\n",
        "            all_dets.append((key,100*new_probs[jk]))\n",
        "\n",
        "            (retval,baseLine) = cv2.getTextSize(textLabel,cv2.FONT_HERSHEY_COMPLEX,1,1)\n",
        "            textOrg = (real_x1, real_y1-0)\n",
        "\n",
        "            cv2.rectangle(img, (textOrg[0] - 5, textOrg[1]+baseLine - 5), (textOrg[0]+retval[0] + 5, textOrg[1]-retval[1] - 5), (0, 0, 0), 1)\n",
        "            cv2.rectangle(img, (textOrg[0] - 5,textOrg[1]+baseLine - 5), (textOrg[0]+retval[0] + 5, textOrg[1]-retval[1] - 5), (255, 255, 255), -1)\n",
        "            cv2.putText(img, textLabel, textOrg, cv2.FONT_HERSHEY_DUPLEX, 1, (0, 0, 0), 1)\n",
        "\n",
        "    print('Elapsed time = {}'.format(time.time() - st))\n",
        "    print(all_dets)\n",
        "    plt.figure(figsize=(10,10))\n",
        "    plt.grid()\n",
        "    plt.imshow(cv2.cvtColor(img,cv2.COLOR_BGR2RGB))\n",
        "    plt.show()"
      ],
      "execution_count": 0,
      "outputs": []
    },
    {
      "cell_type": "code",
      "metadata": {
        "id": "cu17Ru8MAn28",
        "colab_type": "code",
        "colab": {}
      },
      "source": [
        "def get_map(pred, gt, f):\n",
        "\tT = {}\n",
        "\tP = {}\n",
        "\tfx, fy = f\n",
        "\n",
        "\tfor bbox in gt:\n",
        "\t\tbbox['bbox_matched'] = False\n",
        "\n",
        "\tpred_probs = np.array([s['prob'] for s in pred])\n",
        "\tbox_idx_sorted_by_prob = np.argsort(pred_probs)[::-1]\n",
        "\n",
        "\tfor box_idx in box_idx_sorted_by_prob:\n",
        "\t\tpred_box = pred[box_idx]\n",
        "\t\tpred_class = pred_box['class']\n",
        "\t\tpred_x1 = pred_box['x1']\n",
        "\t\tpred_x2 = pred_box['x2']\n",
        "\t\tpred_y1 = pred_box['y1']\n",
        "\t\tpred_y2 = pred_box['y2']\n",
        "\t\tpred_prob = pred_box['prob']\n",
        "\t\tif pred_class not in P:\n",
        "\t\t\tP[pred_class] = []\n",
        "\t\t\tT[pred_class] = []\n",
        "\t\tP[pred_class].append(pred_prob)\n",
        "\t\tfound_match = False\n",
        "\n",
        "\t\tfor gt_box in gt:\n",
        "\t\t\tgt_class = gt_box['class']\n",
        "\t\t\tgt_x1 = gt_box['x1']/fx\n",
        "\t\t\tgt_x2 = gt_box['x2']/fx\n",
        "\t\t\tgt_y1 = gt_box['y1']/fy\n",
        "\t\t\tgt_y2 = gt_box['y2']/fy\n",
        "\t\t\tgt_seen = gt_box['bbox_matched']\n",
        "\t\t\tif gt_class != pred_class:\n",
        "\t\t\t\tcontinue\n",
        "\t\t\tif gt_seen:\n",
        "\t\t\t\tcontinue\n",
        "\t\t\tiou_map = iou((pred_x1, pred_y1, pred_x2, pred_y2), (gt_x1, gt_y1, gt_x2, gt_y2))\n",
        "\t\t\tif iou_map >= 0.5:\n",
        "\t\t\t\tfound_match = True\n",
        "\t\t\t\tgt_box['bbox_matched'] = True\n",
        "\t\t\t\tbreak\n",
        "\t\t\telse:\n",
        "\t\t\t\tcontinue\n",
        "\n",
        "\t\tT[pred_class].append(int(found_match))\n",
        "\n",
        "\tfor gt_box in gt:\n",
        "\t\tif not gt_box['bbox_matched']:# and not gt_box['difficult']:\n",
        "\t\t\tif gt_box['class'] not in P:\n",
        "\t\t\t\tP[gt_box['class']] = []\n",
        "\t\t\t\tT[gt_box['class']] = []\n",
        "\n",
        "\t\t\tT[gt_box['class']].append(1)\n",
        "\t\t\tP[gt_box['class']].append(0)\n",
        "\n",
        "\t#import pdb\n",
        "\t#pdb.set_trace()\n",
        "\treturn T, P"
      ],
      "execution_count": 0,
      "outputs": []
    },
    {
      "cell_type": "code",
      "metadata": {
        "id": "HinWTLjJBD22",
        "colab_type": "code",
        "colab": {}
      },
      "source": [
        "def format_img_map(img, C):\n",
        "\t\"\"\"Format image for mAP. Resize original image to C.im_size (300 in here)\n",
        "\n",
        "\tArgs:\n",
        "\t\timg: cv2 image\n",
        "\t\tC: config\n",
        "\n",
        "\tReturns:\n",
        "\t\timg: Scaled and normalized image with expanding dimension\n",
        "\t\tfx: ratio for width scaling\n",
        "\t\tfy: ratio for height scaling\n",
        "\t\"\"\"\n",
        "\n",
        "\timg_min_side = float(C.im_size)\n",
        "\t(height,width,_) = img.shape\n",
        "\t\n",
        "\tif width <= height:\n",
        "\t\tf = img_min_side/width\n",
        "\t\tnew_height = int(f * height)\n",
        "\t\tnew_width = int(img_min_side)\n",
        "\telse:\n",
        "\t\tf = img_min_side/height\n",
        "\t\tnew_width = int(f * width)\n",
        "\t\tnew_height = int(img_min_side)\n",
        "\tfx = width/float(new_width)\n",
        "\tfy = height/float(new_height)\n",
        "\timg = cv2.resize(img, (new_width, new_height), interpolation=cv2.INTER_CUBIC)\n",
        "\t# Change image channel from BGR to RGB\n",
        "\timg = img[:, :, (2, 1, 0)]\n",
        "\timg = img.astype(np.float32)\n",
        "\timg[:, :, 0] -= C.img_channel_mean[0]\n",
        "\timg[:, :, 1] -= C.img_channel_mean[1]\n",
        "\timg[:, :, 2] -= C.img_channel_mean[2]\n",
        "\timg /= C.img_scaling_factor\n",
        "\t# Change img shape from (height, width, channel) to (channel, height, width)\n",
        "\timg = np.transpose(img, (2, 0, 1))\n",
        "\t# Expand one dimension at axis 0\n",
        "\t# img shape becames (1, channel, height, width)\n",
        "\timg = np.expand_dims(img, axis=0)\n",
        "\treturn img, fx, fy"
      ],
      "execution_count": 0,
      "outputs": []
    },
    {
      "cell_type": "code",
      "metadata": {
        "id": "bqcvn4ocBHH6",
        "colab_type": "code",
        "outputId": "25c2fc5d-b8e0-487f-d3f3-4475eb686801",
        "colab": {
          "base_uri": "https://localhost:8080/",
          "height": 36
        }
      },
      "source": [
        "print(class_mapping)"
      ],
      "execution_count": 0,
      "outputs": [
        {
          "output_type": "stream",
          "text": [
            "{0: 'Mobile phone', 1: 'Person', 2: 'Car', 3: 'bg'}\n"
          ],
          "name": "stdout"
        }
      ]
    },
    {
      "cell_type": "code",
      "metadata": {
        "id": "ibJeiTu8BKFt",
        "colab_type": "code",
        "outputId": "c589ca7c-c382-4c65-b440-08bf30661e58",
        "colab": {
          "base_uri": "https://localhost:8080/",
          "height": 54
        }
      },
      "source": [
        "test_imgs, _, _ = get_data(test_path)"
      ],
      "execution_count": 0,
      "outputs": [
        {
          "output_type": "stream",
          "text": [
            "Parsing annotation files\n",
            "\ridx=1\ridx=2\ridx=3\ridx=4\ridx=5\ridx=6\ridx=7\ridx=8\ridx=9\ridx=10\ridx=11\ridx=12\ridx=13\ridx=14\ridx=15\ridx=16\ridx=17\ridx=18\ridx=19\ridx=20\ridx=21\ridx=22\ridx=23\ridx=24\ridx=25\ridx=26\ridx=27\ridx=28\ridx=29\ridx=30\ridx=31\ridx=32\ridx=33\ridx=34\ridx=35\ridx=36\ridx=37\ridx=38\ridx=39\ridx=40\ridx=41"
          ],
          "name": "stdout"
        }
      ]
    },
    {
      "cell_type": "code",
      "metadata": {
        "id": "8-Hd7GOsBRgs",
        "colab_type": "code",
        "colab": {}
      },
      "source": [
        "T = {}\n",
        "P = {}\n",
        "mAPs = []\n",
        "for idx, img_data in enumerate(test_imgs):\n",
        "    print('{}/{}'.format(idx,len(test_imgs)))\n",
        "    st = time.time()\n",
        "    filepath = img_data['filepath']\n",
        "\n",
        "    img = cv2.imread(filepath)\n",
        "\n",
        "    X, fx, fy = format_img_map(img, C)\n",
        "\n",
        "    # Change X (img) shape from (1, channel, height, width) to (1, height, width, channel)\n",
        "    X = np.transpose(X, (0, 2, 3, 1))\n",
        "\n",
        "    # get the feature maps and output from the RPN\n",
        "    [Y1, Y2, F] = model_rpn.predict(X)\n",
        "\n",
        "\n",
        "    R = rpn_to_roi(Y1, Y2, C, K.image_dim_ordering(), overlap_thresh=0.7)\n",
        "\n",
        "    # convert from (x1,y1,x2,y2) to (x,y,w,h)\n",
        "    R[:, 2] -= R[:, 0]\n",
        "    R[:, 3] -= R[:, 1]\n",
        "\n",
        "    # apply the spatial pyramid pooling to the proposed regions\n",
        "    bboxes = {}\n",
        "    probs = {}\n",
        "\n",
        "    for jk in range(R.shape[0] // C.num_rois + 1):\n",
        "        ROIs = np.expand_dims(R[C.num_rois * jk:C.num_rois * (jk + 1), :], axis=0)\n",
        "        if ROIs.shape[1] == 0:\n",
        "            break\n",
        "\n",
        "        if jk == R.shape[0] // C.num_rois:\n",
        "            # pad R\n",
        "            curr_shape = ROIs.shape\n",
        "            target_shape = (curr_shape[0], C.num_rois, curr_shape[2])\n",
        "            ROIs_padded = np.zeros(target_shape).astype(ROIs.dtype)\n",
        "            ROIs_padded[:, :curr_shape[1], :] = ROIs\n",
        "            ROIs_padded[0, curr_shape[1]:, :] = ROIs[0, 0, :]\n",
        "            ROIs = ROIs_padded\n",
        "\n",
        "        [P_cls, P_regr] = model_classifier_only.predict([F, ROIs])\n",
        "\n",
        "        # Calculate all classes' bboxes coordinates on resized image (300, 400)\n",
        "        # Drop 'bg' classes bboxes\n",
        "        for ii in range(P_cls.shape[1]):\n",
        "\n",
        "            # If class name is 'bg', continue\n",
        "            if np.argmax(P_cls[0, ii, :]) == (P_cls.shape[2] - 1):\n",
        "                continue\n",
        "\n",
        "            # Get class name\n",
        "            cls_name = class_mapping[np.argmax(P_cls[0, ii, :])]\n",
        "\n",
        "            if cls_name not in bboxes:\n",
        "                bboxes[cls_name] = []\n",
        "                probs[cls_name] = []\n",
        "\n",
        "            (x, y, w, h) = ROIs[0, ii, :]\n",
        "\n",
        "            cls_num = np.argmax(P_cls[0, ii, :])\n",
        "            try:\n",
        "                (tx, ty, tw, th) = P_regr[0, ii, 4 * cls_num:4 * (cls_num + 1)]\n",
        "                tx /= C.classifier_regr_std[0]\n",
        "                ty /= C.classifier_regr_std[1]\n",
        "                tw /= C.classifier_regr_std[2]\n",
        "                th /= C.classifier_regr_std[3]\n",
        "                x, y, w, h = roi_helpers.apply_regr(x, y, w, h, tx, ty, tw, th)\n",
        "            except:\n",
        "                pass\n",
        "            bboxes[cls_name].append([16 * x, 16 * y, 16 * (x + w), 16 * (y + h)])\n",
        "            probs[cls_name].append(np.max(P_cls[0, ii, :]))\n",
        "\n",
        "    all_dets = []\n",
        "\n",
        "    for key in bboxes:\n",
        "        bbox = np.array(bboxes[key])\n",
        "\n",
        "        # Apply non-max-suppression on final bboxes to get the output bounding boxe\n",
        "        new_boxes, new_probs = non_max_suppression_fast(bbox, np.array(probs[key]), overlap_thresh=0.5)\n",
        "        for jk in range(new_boxes.shape[0]):\n",
        "            (x1, y1, x2, y2) = new_boxes[jk, :]\n",
        "            det = {'x1': x1, 'x2': x2, 'y1': y1, 'y2': y2, 'class': key, 'prob': new_probs[jk]}\n",
        "            all_dets.append(det)\n",
        "\n",
        "\n",
        "    print('Elapsed time = {}'.format(time.time() - st))\n",
        "    t, p = get_map(all_dets, img_data['bboxes'], (fx, fy))\n",
        "    for key in t.keys():\n",
        "        if key not in T:\n",
        "            T[key] = []\n",
        "            P[key] = []\n",
        "        T[key].extend(t[key])\n",
        "        P[key].extend(p[key])\n",
        "    all_aps = []\n",
        "    for key in T.keys():\n",
        "        ap = average_precision_score(T[key], P[key])\n",
        "        print('{} AP: {}'.format(key, ap))\n",
        "        all_aps.append(ap)\n",
        "    print('mAP = {}'.format(np.mean(np.array(all_aps))))\n",
        "    mAPs.append(np.mean(np.array(all_aps)))\n",
        "    #print(T)\n",
        "    #print(P)\n",
        "    \n",
        "print()\n",
        "print('mean average precision:', np.mean(np.array(mAPs)))"
      ],
      "execution_count": 0,
      "outputs": []
    },
    {
      "cell_type": "code",
      "metadata": {
        "id": "B5eyGzOPCdtt",
        "colab_type": "code",
        "colab": {}
      },
      "source": [
        "mAP = [mAP for mAP in mAPs if str(mAP)!='nan']\n",
        "mean_average_prec = round(np.mean(np.array(mAP)), 3)\n",
        "print('After training %dk batches, the mean average precision is %0.3f'%(len(record_df), mean_average_prec))"
      ],
      "execution_count": 0,
      "outputs": []
    },
    {
      "cell_type": "code",
      "metadata": {
        "id": "JNNUnT8uCsbf",
        "colab_type": "code",
        "colab": {}
      },
      "source": [
        ""
      ],
      "execution_count": 0,
      "outputs": []
    }
  ]
}